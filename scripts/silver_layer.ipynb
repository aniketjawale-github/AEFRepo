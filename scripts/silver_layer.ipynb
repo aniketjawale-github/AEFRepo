from pyspark.sql.functions import *
from pyspark.sql.types import *
##  SILVER LAYER SCRIPT
####  DATA ACCESS USING APP
# Configure OAuth Authentication securely                                                                                                    
spark.conf.set("fs.azure.account.auth.type.aefstoragedatalake.dfs.core.windows.net", "OAuth")
spark.conf.set("fs.azure.account.oauth.provider.type.aefstoragedatalake.dfs.core.windows.net", 
               "org.apache.hadoop.fs.azurebfs.oauth2.ClientCredsTokenProvider")
spark.conf.set("fs.azure.account.oauth2.client.id.aefstoragedatalake.dfs.core.windows.net", "KEY")
spark.conf.set("fs.azure.account.oauth2.client.secret.aefstoragedatalake.dfs.core.windows.net","YOUR SECRET KEY")
spark.conf.set("fs.azure.account.oauth2.client.endpoint.aefstoragedatalake.dfs.core.windows.net", 
               "https://login.microsoftonline.com/KEY/oauth2/token")

###  DATA LOADING
##### READ ALL THE DATA ONEBYONE i.e DATA PRESENT IN BRONZE CONTAINER

df_cal = spark.read.format("csv")\
            .option("header",True)\
            .option("inferSchema", True)\
            .load("abfss://bronze@aefstoragedatalake.dfs.core.windows.net/AdventureWorks_Calendar") 
df_cal.display()
df_cus = spark.read.format("csv")\
              .option("header",True)\
              .option("inferSchema", True)\
              .load("abfss://bronze@aefstoragedatalake.dfs.core.windows.net/AdventureWorks_Customers")
df_pro = spark.read.format("csv")\
              .option("header",True)\
              .option("inferSchema", True)\
              .load("abfss://bronze@aefstoragedatalake.dfs.core.windows.net/AdventureWorks_Products")
df_procat = spark.read.format("csv")

\
              .option("header",True)\
              .option("inferSchema", True)\
              .load("abfss://bronze@aefstoragedatalake.dfs.core.windows.net/AdventureWorks_Product_Categories")
df_subcat = spark.read.format("csv")\
              .option("header",True)\
              .option("inferSchema", True)\
              .load("abfss://bronze@aefstoragedatalake.dfs.core.windows.net/AdventureWorks_Product_Subcategories")
df_ret = spark.read.format("csv")\
              .option("header",True)\
              .option("inferSchema", True)\
              .load("abfss://bronze@aefstoragedatalake.dfs.core.windows.net/AdventureWorks_Returns")
df_sales = spark.read.format("csv")\
              .option("header",True)\
              .option("inferSchema", True)\
              .load("abfss://bronze@aefstoragedatalake.dfs.core.windows.net/AdventureWorks_Sales*")
df_sales.display()
df_ter = spark.read.format("csv")\
              .option("header",True)\
              .option("inferSchema", True)\
              .load("abfss://bronze@aefstoragedatalake.dfs.core.windows.net/AdventureWorks_Territories")
##TRANSFORMATIONS
df_cal.display()
### Calendar
df_cal = df_cal.withColumn('Month', month(col('Date')))\
            .withColumn('Year', year(col('Date')))

df_cal.write.format('parquet')\
          .mode('append')\
              .option("path","abfss://silver@aefstoragedatalake.dfs.core.windows.net/AdventureWorks_Calendar")\
              .save()
### Customers
df_cus =df_cus.withColumn("fullName",concat(col('Prefix'), lit(' '), col('FirstName'), lit(' '), col('LastName')))
df_cus.display()   
df_cus=df_cus.withColumn('fullName',concat_ws(' ',col('Prefix'),col('FirstName'),col('LastName')))
df_cus.display()
df_cus.write.format('parquet')\
          .mode('append')\
              .option("path","abfss://silver@aefstoragedatalake.dfs.core.windows.net/AdventureWorks_Customer")\
              .save()
### Product Categories
df_procat.write.format('parquet')\
          .mode('append')\
              .option("path","abfss://silver@aefstoragedatalake.dfs.core.windows.net/AdventureWorks_Product_Categories")\
              .save()
df_procat.display()
### Product SubCategories
df_subcat.write.format('parquet')\
          .mode('append')\
              .option("path","abfss://silver@aefstoragedatalake.dfs.core.windows.net/AdventureWorks_Product_SubCategories")\
              .save()
df_subcat.display()
#### Products
df_pro= df_pro.withColumn('ProductSKU',split(col('ProductSKU'),'-')[0])\
              .withColumn('ProductName',split(col('ProductName'),' ')[0]) 

df_pro.display()    
df_pro.write.format('parquet')\
          .mode('append')\
              .option("path","abfss://silver@aefstoragedatalake.dfs.core.windows.net/AdventureWorks_Products")\
              .save()
#### Returns
df_ret.display()
df_ret.write.format('parquet')\
          .mode('append')\
              .option("path","abfss://silver@aefstoragedatalake.dfs.core.windows.net/AdventureWorks_Product_Returns")\
              .save()
#### Territories
df_ter.display()
df_ter.write.format('parquet')\
          .mode('append')\
              .option("path","abfss://silver@aefstoragedatalake.dfs.core.windows.net/AdventureWorks_Territories")\
              .save()
####Sales
df_sales.display()
df_sales= df_sales.withColumn('StockDate',to_timestamp('StockDate'))
df_sales.display()
df_sales =df_sales.withColumn('OrderNumber',regexp_replace('OrderNumber','S','T'))
df_sales.display()

df_sales=df_sales.withColumn('multiply',col('OrderLineItem')*col('OrderQuantity'))
df_sales.display()
df_sales.write.format('parquet')\
          .mode('append')\
              .option("path","abfss://silver@aefstoragedatalake.dfs.core.windows.net/AdventureWorks_Sales")\
              .save()
## Sales Analysis
df_sales.groupBy('OrderDate').agg(count('OrderNumber').alias('total_orders')).display()
df_procat.display()
df_ter.display()

